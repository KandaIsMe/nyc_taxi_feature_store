{
 "cells": [
  {
   "cell_type": "code",
   "execution_count": 1,
   "metadata": {},
   "outputs": [],
   "source": [
    "import os \n",
    "import pandas as pd\n",
    "import pyarrow \n",
    "import numpy as np\n",
    "import seaborn  as sns \n",
    "import matplotlib.pyplot as plt"
   ]
  },
  {
   "cell_type": "code",
   "execution_count": 2,
   "metadata": {},
   "outputs": [],
   "source": [
    "green_sample_path=\"../data/green_tripdata_2022.parquet\"\n",
    "yellow_sample_path=\"../data/yellow_tripdata_2022.parquet\"\n",
    "df_green = pd.read_parquet(green_sample_path)\n",
    "df_yellow = pd.read_parquet(yellow_sample_path)\n"
   ]
  },
  {
   "cell_type": "code",
   "execution_count": null,
   "metadata": {},
   "outputs": [],
   "source": [
    "df_green.shape, df_yellow.shape"
   ]
  },
  {
   "cell_type": "code",
   "execution_count": null,
   "metadata": {},
   "outputs": [],
   "source": [
    "#check missing values\n",
    "print(df_green.isnull().sum())\n"
   ]
  },
  {
   "cell_type": "code",
   "execution_count": null,
   "metadata": {},
   "outputs": [],
   "source": [
    "print(df_yellow.isnull().sum())"
   ]
  },
  {
   "cell_type": "code",
   "execution_count": null,
   "metadata": {},
   "outputs": [],
   "source": [
    "#get 10000 sample from green \n",
    "df_green=df_green.sample(n=10000, random_state=1)\n"
   ]
  },
  {
   "cell_type": "code",
   "execution_count": null,
   "metadata": {},
   "outputs": [],
   "source": []
  },
  {
   "cell_type": "code",
   "execution_count": null,
   "metadata": {},
   "outputs": [],
   "source": [
    "#drop missing values\n",
    "df_green=df_green.dropna()\n",
    "df_yellow=df_yellow.dropna()"
   ]
  },
  {
   "cell_type": "code",
   "execution_count": null,
   "metadata": {},
   "outputs": [],
   "source": [
    "print(df_green.shape)\n",
    "df_green.head()\n"
   ]
  },
  {
   "cell_type": "code",
   "execution_count": null,
   "metadata": {},
   "outputs": [],
   "source": [
    "print(df_yellow.shape)\n",
    "df_yellow.head()"
   ]
  },
  {
   "cell_type": "code",
   "execution_count": 3,
   "metadata": {},
   "outputs": [
    {
     "name": "stdout",
     "output_type": "stream",
     "text": [
      "{'trip_distance', 'mta_tax', 'DOLocationID', 'extra', 'PULocationID', 'tip_amount', 'improvement_surcharge', 'congestion_surcharge', 'tolls_amount', 'store_and_fwd_flag', 'passenger_count', 'total_amount', 'VendorID', 'RatecodeID', 'payment_type', 'fare_amount'}\n",
      "16\n",
      "{'ehail_fee', 'trip_type', 'lpep_dropoff_datetime', 'lpep_pickup_datetime'}\n",
      "{'tpep_dropoff_datetime', 'tpep_pickup_datetime', 'airport_fee'}\n"
     ]
    }
   ],
   "source": [
    "green_cols = df_green.columns\n",
    "yellow_cols = df_yellow.columns\n",
    "#find the common columns\n",
    "common_cols = set(green_cols).intersection(set(yellow_cols))\n",
    "print(common_cols)\n",
    "print(len(common_cols))\n",
    "diff_green_cols = set(green_cols).difference(set(yellow_cols))\n",
    "diff_yellow_cols = set(yellow_cols).difference(set(green_cols))\n",
    "print(diff_green_cols)\n",
    "print(diff_yellow_cols)\n"
   ]
  },
  {
   "cell_type": "code",
   "execution_count": null,
   "metadata": {},
   "outputs": [],
   "source": []
  },
  {
   "cell_type": "code",
   "execution_count": 4,
   "metadata": {},
   "outputs": [],
   "source": [
    "#renname lpep_pickup_datetime to pickup_datetime\n",
    "df_green = df_green.rename(columns={\"lpep_pickup_datetime\":\"pickup_datetime\"})\n",
    "df_yellow = df_yellow.rename(columns={\"tpep_pickup_datetime\":\"pickup_datetime\"})\n",
    "#rename lpep_dropoff_datetime to dropoff_datetime\n",
    "df_green = df_green.rename(columns={\"lpep_dropoff_datetime\":\"dropoff_datetime\"})\n",
    "df_yellow = df_yellow.rename(columns={\"tpep_dropoff_datetime\":\"dropoff_datetime\"})\n",
    "#rename \n",
    "#convert type to string\n",
    "df_green['pickup_datetime'] = df_green['pickup_datetime'].astype(str)\n",
    "df_green['dropoff_datetime'] = df_green['dropoff_datetime'].astype(str)"
   ]
  },
  {
   "cell_type": "code",
   "execution_count": 10,
   "metadata": {},
   "outputs": [],
   "source": [
    "#collapse\n",
    "\n",
    "# help function\n",
    "def basic_feature_extract(df):\n",
    "    df_= df.copy()\n",
    "    # pickup\n",
    "    df_[\"pickup_date\"] = pd.to_datetime(df_.pickup_datetime.apply(lambda x : x.split(\" \")[0]))\n",
    "    df_[\"pickup_hour\"] = df_.pickup_datetime.apply(lambda x : x.split(\" \")[1].split(\":\")[0])\n",
    "    df_[\"pickup_year\"] = df_.pickup_datetime.apply(lambda x : x.split(\" \")[0].split(\"-\")[0])\n",
    "    df_[\"pickup_month\"] = df_.pickup_datetime.apply(lambda x : x.split(\" \")[0].split(\"-\")[1])\n",
    "    df_[\"pickup_weekday\"] = df_.pickup_datetime.apply(lambda x :pd.to_datetime(x.split(\" \")[0]).weekday())\n",
    "    # dropoff\n",
    "    # in case test data dont have dropoff_datetime feature\n",
    "    try:\n",
    "        df_[\"dropoff_date\"] = pd.to_datetime(df_.dropoff_datetime.apply(lambda x : x.split(\" \")[0]))\n",
    "        df_[\"dropoff_hour\"] = df_.dropoff_datetime.apply(lambda x : x.split(\" \")[1].split(\":\")[0])\n",
    "        df_[\"dropoff_year\"] = df_.dropoff_datetime.apply(lambda x : x.split(\" \")[0].split(\"-\")[0])\n",
    "        df_[\"dropoff_month\"] = df_.dropoff_datetime.apply(lambda x : x.split(\" \")[0].split(\"-\")[1])\n",
    "        df_[\"dropoff_weekday\"] = df_.dropoff_datetime.apply(lambda x :pd.to_datetime(x.split(\" \")[0]).weekday())\n",
    "    except:\n",
    "        pass \n",
    "    return df_\n",
    "\n",
    "# get weekday\n",
    "import calendar\n",
    "\n",
    "\n",
    "def get_weekday(df):\n",
    "    list(calendar.day_name)\n",
    "    df_=df.copy()\n",
    "    df_['pickup_week_'] = pd.to_datetime(df_.pickup_datetime).dt.weekday\n",
    "    df_['pickup_weekday_'] = df_['pickup_week_'].apply(lambda x: calendar.day_name[x])\n",
    "    return df_\n",
    "\n",
    "# get trip duration \n",
    "def get_duration(df):\n",
    "    df_= df.copy()\n",
    "    df_['trip_duration_cal'] = pd.to_datetime(df_['dropoff_datetime']) - pd.to_datetime(df_['pickup_datetime'])\n",
    "    return df_\n",
    "\n"
   ]
  },
  {
   "cell_type": "code",
   "execution_count": 7,
   "metadata": {},
   "outputs": [],
   "source": [
    "df_green=basic_feature_extract(df_green)"
   ]
  },
  {
   "cell_type": "code",
   "execution_count": null,
   "metadata": {},
   "outputs": [],
   "source": [
    "df_green[\"pickup_week_\"]"
   ]
  },
  {
   "cell_type": "code",
   "execution_count": 11,
   "metadata": {},
   "outputs": [],
   "source": [
    "df_green=get_duration(df_green)\n",
    "df_green=get_weekday(df_green)"
   ]
  },
  {
   "cell_type": "code",
   "execution_count": 8,
   "metadata": {},
   "outputs": [
    {
     "data": {
      "text/html": [
       "<div>\n",
       "<style scoped>\n",
       "    .dataframe tbody tr th:only-of-type {\n",
       "        vertical-align: middle;\n",
       "    }\n",
       "\n",
       "    .dataframe tbody tr th {\n",
       "        vertical-align: top;\n",
       "    }\n",
       "\n",
       "    .dataframe thead th {\n",
       "        text-align: right;\n",
       "    }\n",
       "</style>\n",
       "<table border=\"1\" class=\"dataframe\">\n",
       "  <thead>\n",
       "    <tr style=\"text-align: right;\">\n",
       "      <th></th>\n",
       "      <th>VendorID</th>\n",
       "      <th>pickup_datetime</th>\n",
       "      <th>dropoff_datetime</th>\n",
       "      <th>store_and_fwd_flag</th>\n",
       "      <th>RatecodeID</th>\n",
       "      <th>PULocationID</th>\n",
       "      <th>DOLocationID</th>\n",
       "      <th>passenger_count</th>\n",
       "      <th>trip_distance</th>\n",
       "      <th>fare_amount</th>\n",
       "      <th>...</th>\n",
       "      <th>pickup_date</th>\n",
       "      <th>pickup_hour</th>\n",
       "      <th>pickup_year</th>\n",
       "      <th>pickup_month</th>\n",
       "      <th>pickup_weekday</th>\n",
       "      <th>dropoff_date</th>\n",
       "      <th>dropoff_hour</th>\n",
       "      <th>dropoff_year</th>\n",
       "      <th>dropoff_month</th>\n",
       "      <th>dropoff_weekday</th>\n",
       "    </tr>\n",
       "  </thead>\n",
       "  <tbody>\n",
       "    <tr>\n",
       "      <th>0</th>\n",
       "      <td>2</td>\n",
       "      <td>2022-01-01 00:14:21</td>\n",
       "      <td>2022-01-01 00:15:33</td>\n",
       "      <td>N</td>\n",
       "      <td>1.0</td>\n",
       "      <td>42</td>\n",
       "      <td>42</td>\n",
       "      <td>1.0</td>\n",
       "      <td>0.44</td>\n",
       "      <td>3.5</td>\n",
       "      <td>...</td>\n",
       "      <td>2022-01-01</td>\n",
       "      <td>00</td>\n",
       "      <td>2022</td>\n",
       "      <td>01</td>\n",
       "      <td>5</td>\n",
       "      <td>2022-01-01</td>\n",
       "      <td>00</td>\n",
       "      <td>2022</td>\n",
       "      <td>01</td>\n",
       "      <td>5</td>\n",
       "    </tr>\n",
       "    <tr>\n",
       "      <th>1</th>\n",
       "      <td>1</td>\n",
       "      <td>2022-01-01 00:20:55</td>\n",
       "      <td>2022-01-01 00:29:38</td>\n",
       "      <td>N</td>\n",
       "      <td>1.0</td>\n",
       "      <td>116</td>\n",
       "      <td>41</td>\n",
       "      <td>1.0</td>\n",
       "      <td>2.10</td>\n",
       "      <td>9.5</td>\n",
       "      <td>...</td>\n",
       "      <td>2022-01-01</td>\n",
       "      <td>00</td>\n",
       "      <td>2022</td>\n",
       "      <td>01</td>\n",
       "      <td>5</td>\n",
       "      <td>2022-01-01</td>\n",
       "      <td>00</td>\n",
       "      <td>2022</td>\n",
       "      <td>01</td>\n",
       "      <td>5</td>\n",
       "    </tr>\n",
       "    <tr>\n",
       "      <th>2</th>\n",
       "      <td>1</td>\n",
       "      <td>2022-01-01 00:57:02</td>\n",
       "      <td>2022-01-01 01:13:14</td>\n",
       "      <td>N</td>\n",
       "      <td>1.0</td>\n",
       "      <td>41</td>\n",
       "      <td>140</td>\n",
       "      <td>1.0</td>\n",
       "      <td>3.70</td>\n",
       "      <td>14.5</td>\n",
       "      <td>...</td>\n",
       "      <td>2022-01-01</td>\n",
       "      <td>00</td>\n",
       "      <td>2022</td>\n",
       "      <td>01</td>\n",
       "      <td>5</td>\n",
       "      <td>2022-01-01</td>\n",
       "      <td>01</td>\n",
       "      <td>2022</td>\n",
       "      <td>01</td>\n",
       "      <td>5</td>\n",
       "    </tr>\n",
       "    <tr>\n",
       "      <th>3</th>\n",
       "      <td>2</td>\n",
       "      <td>2022-01-01 00:07:42</td>\n",
       "      <td>2022-01-01 00:15:57</td>\n",
       "      <td>N</td>\n",
       "      <td>1.0</td>\n",
       "      <td>181</td>\n",
       "      <td>181</td>\n",
       "      <td>1.0</td>\n",
       "      <td>1.69</td>\n",
       "      <td>8.0</td>\n",
       "      <td>...</td>\n",
       "      <td>2022-01-01</td>\n",
       "      <td>00</td>\n",
       "      <td>2022</td>\n",
       "      <td>01</td>\n",
       "      <td>5</td>\n",
       "      <td>2022-01-01</td>\n",
       "      <td>00</td>\n",
       "      <td>2022</td>\n",
       "      <td>01</td>\n",
       "      <td>5</td>\n",
       "    </tr>\n",
       "    <tr>\n",
       "      <th>4</th>\n",
       "      <td>2</td>\n",
       "      <td>2022-01-01 00:07:50</td>\n",
       "      <td>2022-01-01 00:28:52</td>\n",
       "      <td>N</td>\n",
       "      <td>1.0</td>\n",
       "      <td>33</td>\n",
       "      <td>170</td>\n",
       "      <td>1.0</td>\n",
       "      <td>6.26</td>\n",
       "      <td>22.0</td>\n",
       "      <td>...</td>\n",
       "      <td>2022-01-01</td>\n",
       "      <td>00</td>\n",
       "      <td>2022</td>\n",
       "      <td>01</td>\n",
       "      <td>5</td>\n",
       "      <td>2022-01-01</td>\n",
       "      <td>00</td>\n",
       "      <td>2022</td>\n",
       "      <td>01</td>\n",
       "      <td>5</td>\n",
       "    </tr>\n",
       "  </tbody>\n",
       "</table>\n",
       "<p>5 rows × 30 columns</p>\n",
       "</div>"
      ],
      "text/plain": [
       "   VendorID      pickup_datetime     dropoff_datetime store_and_fwd_flag  \\\n",
       "0         2  2022-01-01 00:14:21  2022-01-01 00:15:33                  N   \n",
       "1         1  2022-01-01 00:20:55  2022-01-01 00:29:38                  N   \n",
       "2         1  2022-01-01 00:57:02  2022-01-01 01:13:14                  N   \n",
       "3         2  2022-01-01 00:07:42  2022-01-01 00:15:57                  N   \n",
       "4         2  2022-01-01 00:07:50  2022-01-01 00:28:52                  N   \n",
       "\n",
       "   RatecodeID  PULocationID  DOLocationID  passenger_count  trip_distance  \\\n",
       "0         1.0            42            42              1.0           0.44   \n",
       "1         1.0           116            41              1.0           2.10   \n",
       "2         1.0            41           140              1.0           3.70   \n",
       "3         1.0           181           181              1.0           1.69   \n",
       "4         1.0            33           170              1.0           6.26   \n",
       "\n",
       "   fare_amount  ...  pickup_date  pickup_hour  pickup_year  pickup_month  \\\n",
       "0          3.5  ...   2022-01-01           00         2022            01   \n",
       "1          9.5  ...   2022-01-01           00         2022            01   \n",
       "2         14.5  ...   2022-01-01           00         2022            01   \n",
       "3          8.0  ...   2022-01-01           00         2022            01   \n",
       "4         22.0  ...   2022-01-01           00         2022            01   \n",
       "\n",
       "  pickup_weekday  dropoff_date  dropoff_hour  dropoff_year  dropoff_month  \\\n",
       "0              5    2022-01-01            00          2022             01   \n",
       "1              5    2022-01-01            00          2022             01   \n",
       "2              5    2022-01-01            01          2022             01   \n",
       "3              5    2022-01-01            00          2022             01   \n",
       "4              5    2022-01-01            00          2022             01   \n",
       "\n",
       "   dropoff_weekday  \n",
       "0                5  \n",
       "1                5  \n",
       "2                5  \n",
       "3                5  \n",
       "4                5  \n",
       "\n",
       "[5 rows x 30 columns]"
      ]
     },
     "execution_count": 8,
     "metadata": {},
     "output_type": "execute_result"
    }
   ],
   "source": [
    "df_green.head()"
   ]
  },
  {
   "cell_type": "code",
   "execution_count": null,
   "metadata": {},
   "outputs": [],
   "source": [
    "df_yellow = basic_feature_extract(df_yellow)"
   ]
  },
  {
   "cell_type": "code",
   "execution_count": null,
   "metadata": {},
   "outputs": [],
   "source": [
    "#check type pick up and drop off\n",
    "print(df_green['pickup_datetime'].dtype)\n"
   ]
  },
  {
   "cell_type": "code",
   "execution_count": null,
   "metadata": {},
   "outputs": [],
   "source": [
    "df_green"
   ]
  },
  {
   "cell_type": "code",
   "execution_count": null,
   "metadata": {},
   "outputs": [],
   "source": [
    "print(df_green.describe())\n"
   ]
  },
  {
   "cell_type": "code",
   "execution_count": null,
   "metadata": {},
   "outputs": [],
   "source": [
    "df_green.groupby('pickup_datetime').count()['VendorID'].plot()"
   ]
  },
  {
   "cell_type": "code",
   "execution_count": 13,
   "metadata": {},
   "outputs": [],
   "source": [
    "#create unique id\n",
    "df_green['id']=df_green.index"
   ]
  },
  {
   "cell_type": "code",
   "execution_count": 14,
   "metadata": {},
   "outputs": [
    {
     "data": {
      "image/png": "[encoded data removed]",
      "text/plain": [
       "<Figure size 1200x500 with 2 Axes>"
      ]
     },
     "metadata": {},
     "output_type": "display_data"
    }
   ],
   "source": [
    "#collapse\n",
    "fig, ax = plt.subplots(ncols=2, sharey=True)\n",
    "fig.set_size_inches(12, 5)\n",
    "\n",
    "ax[0].plot(df_green.groupby('pickup_date')[\"id\"].count(), 'go-', alpha=0.5)\n",
    "ax[1].plot(df_green.groupby('dropoff_date')[\"id\"].count(), 'bo-', alpha=0.5)\n",
    "\n",
    "ax[0].set(xlabel='date', ylabel='Count',title=\"pickup counts\")\n",
    "ax[1].set(xlabel='date', ylabel='Count',title=\"dropoff counts\")\n",
    "\n",
    "plt.show()"
   ]
  },
  {
   "cell_type": "code",
   "execution_count": null,
   "metadata": {},
   "outputs": [],
   "source": [
    "print(df_yellow.describe())"
   ]
  }
 ],
 "metadata": {
  "kernelspec": {
   "display_name": "mle2",
   "language": "python",
   "name": "python3"
  },
  "language_info": {
   "codemirror_mode": {
    "name": "ipython",
    "version": 3
   },
   "file_extension": ".py",
   "mimetype": "text/x-python",
   "name": "python",
   "nbconvert_exporter": "python",
   "pygments_lexer": "ipython3",
   "version": "3.9.18"
  }
 },
 "nbformat": 4,
 "nbformat_minor": 2
}
